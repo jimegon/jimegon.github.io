{
 "cells": [
  {
   "cell_type": "markdown",
   "metadata": {},
   "source": [
    "# Leaflet cluster map of talk locations\n",
    "\n",
    "Assuming you are working in a Linux or Windows Subsystem for Linux environment, you may need to install some dependencies. Assuming a clean installation, the following will be needed:\n",
    "\n",
    "```bash\n",
    "sudo apt install jupyter\n",
    "sudo apt install python3-pip\n",
    "pip install python-frontmatter getorg --upgrade\n",
    "```\n",
    "\n",
    "After which you can run this from the `_talks/` directory, via:\n",
    "\n",
    "```bash\n",
    " jupyter nbconvert --to notebook --execute talkmap.ipynb --output talkmap_out.ipynb\n",
    "```\n",
    " \n",
    "The `_talks/` directory contains `.md` files of all your talks. This scrapes the location YAML field from each `.md` file, geolocates it with `geopy/Nominatim`, and uses the `getorg` library to output data, HTML, and Javascript for a standalone cluster map."
   ]
  },
  {
   "cell_type": "code",
   "execution_count": 4,
   "metadata": {
    "collapsed": false
   },
   "outputs": [
    {
     "name": "stdout",
     "output_type": "stream",
     "text": [
      "Requirement already satisfied: python-frontmatter in c:\\users\\jimeg\\appdata\\local\\packages\\pythonsoftwarefoundation.python.3.11_qbz5n2kfra8p0\\localcache\\local-packages\\python311\\site-packages (1.1.0)\n",
      "Requirement already satisfied: getorg in c:\\users\\jimeg\\appdata\\local\\packages\\pythonsoftwarefoundation.python.3.11_qbz5n2kfra8p0\\localcache\\local-packages\\python311\\site-packages (0.3.1)\n",
      "Requirement already satisfied: PyYAML in c:\\users\\jimeg\\appdata\\local\\packages\\pythonsoftwarefoundation.python.3.11_qbz5n2kfra8p0\\localcache\\local-packages\\python311\\site-packages (from python-frontmatter) (6.0.2)\n",
      "Requirement already satisfied: geopy in c:\\users\\jimeg\\appdata\\local\\packages\\pythonsoftwarefoundation.python.3.11_qbz5n2kfra8p0\\localcache\\local-packages\\python311\\site-packages (from getorg) (2.4.1)\n",
      "Requirement already satisfied: pygithub in c:\\users\\jimeg\\appdata\\local\\packages\\pythonsoftwarefoundation.python.3.11_qbz5n2kfra8p0\\localcache\\local-packages\\python311\\site-packages (from getorg) (2.3.0)\n",
      "Requirement already satisfied: retrying in c:\\users\\jimeg\\appdata\\local\\packages\\pythonsoftwarefoundation.python.3.11_qbz5n2kfra8p0\\localcache\\local-packages\\python311\\site-packages (from getorg) (1.3.4)\n",
      "Requirement already satisfied: geographiclib<3,>=1.52 in c:\\users\\jimeg\\appdata\\local\\packages\\pythonsoftwarefoundation.python.3.11_qbz5n2kfra8p0\\localcache\\local-packages\\python311\\site-packages (from geopy->getorg) (2.0)\n",
      "Requirement already satisfied: pynacl>=1.4.0 in c:\\users\\jimeg\\appdata\\local\\packages\\pythonsoftwarefoundation.python.3.11_qbz5n2kfra8p0\\localcache\\local-packages\\python311\\site-packages (from pygithub->getorg) (1.5.0)\n",
      "Requirement already satisfied: requests>=2.14.0 in c:\\users\\jimeg\\appdata\\local\\packages\\pythonsoftwarefoundation.python.3.11_qbz5n2kfra8p0\\localcache\\local-packages\\python311\\site-packages (from pygithub->getorg) (2.31.0)\n",
      "Requirement already satisfied: pyjwt>=2.4.0 in c:\\users\\jimeg\\appdata\\local\\packages\\pythonsoftwarefoundation.python.3.11_qbz5n2kfra8p0\\localcache\\local-packages\\python311\\site-packages (from pyjwt[crypto]>=2.4.0->pygithub->getorg) (2.8.0)\n",
      "Requirement already satisfied: typing-extensions>=4.0.0 in c:\\users\\jimeg\\appdata\\local\\packages\\pythonsoftwarefoundation.python.3.11_qbz5n2kfra8p0\\localcache\\local-packages\\python311\\site-packages (from pygithub->getorg) (4.11.0)\n",
      "Requirement already satisfied: urllib3>=1.26.0 in c:\\users\\jimeg\\appdata\\local\\packages\\pythonsoftwarefoundation.python.3.11_qbz5n2kfra8p0\\localcache\\local-packages\\python311\\site-packages (from pygithub->getorg) (2.2.1)\n",
      "Requirement already satisfied: Deprecated in c:\\users\\jimeg\\appdata\\local\\packages\\pythonsoftwarefoundation.python.3.11_qbz5n2kfra8p0\\localcache\\local-packages\\python311\\site-packages (from pygithub->getorg) (1.2.14)\n",
      "Requirement already satisfied: six>=1.7.0 in c:\\users\\jimeg\\appdata\\local\\packages\\pythonsoftwarefoundation.python.3.11_qbz5n2kfra8p0\\localcache\\local-packages\\python311\\site-packages (from retrying->getorg) (1.16.0)\n",
      "Requirement already satisfied: cryptography>=3.4.0 in c:\\users\\jimeg\\appdata\\local\\packages\\pythonsoftwarefoundation.python.3.11_qbz5n2kfra8p0\\localcache\\local-packages\\python311\\site-packages (from pyjwt[crypto]>=2.4.0->pygithub->getorg) (42.0.5)\n",
      "Requirement already satisfied: cffi>=1.4.1 in c:\\users\\jimeg\\appdata\\local\\packages\\pythonsoftwarefoundation.python.3.11_qbz5n2kfra8p0\\localcache\\local-packages\\python311\\site-packages (from pynacl>=1.4.0->pygithub->getorg) (1.16.0)\n",
      "Requirement already satisfied: charset-normalizer<4,>=2 in c:\\users\\jimeg\\appdata\\local\\packages\\pythonsoftwarefoundation.python.3.11_qbz5n2kfra8p0\\localcache\\local-packages\\python311\\site-packages (from requests>=2.14.0->pygithub->getorg) (3.3.2)\n",
      "Requirement already satisfied: idna<4,>=2.5 in c:\\users\\jimeg\\appdata\\local\\packages\\pythonsoftwarefoundation.python.3.11_qbz5n2kfra8p0\\localcache\\local-packages\\python311\\site-packages (from requests>=2.14.0->pygithub->getorg) (3.7)\n",
      "Requirement already satisfied: certifi>=2017.4.17 in c:\\users\\jimeg\\appdata\\local\\packages\\pythonsoftwarefoundation.python.3.11_qbz5n2kfra8p0\\localcache\\local-packages\\python311\\site-packages (from requests>=2.14.0->pygithub->getorg) (2024.2.2)\n",
      "Requirement already satisfied: wrapt<2,>=1.10 in c:\\users\\jimeg\\appdata\\local\\packages\\pythonsoftwarefoundation.python.3.11_qbz5n2kfra8p0\\localcache\\local-packages\\python311\\site-packages (from Deprecated->pygithub->getorg) (1.16.0)\n",
      "Requirement already satisfied: pycparser in c:\\users\\jimeg\\appdata\\local\\packages\\pythonsoftwarefoundation.python.3.11_qbz5n2kfra8p0\\localcache\\local-packages\\python311\\site-packages (from cffi>=1.4.1->pynacl>=1.4.0->pygithub->getorg) (2.22)\n",
      "Note: you may need to restart the kernel to use updated packages.\n"
     ]
    },
    {
     "name": "stderr",
     "output_type": "stream",
     "text": [
      "\n",
      "[notice] A new release of pip is available: 24.0 -> 25.2\n",
      "[notice] To update, run: C:\\Users\\jimeg\\AppData\\Local\\Microsoft\\WindowsApps\\PythonSoftwareFoundation.Python.3.11_qbz5n2kfra8p0\\python.exe -m pip install --upgrade pip\n"
     ]
    }
   ],
   "source": [
    "# Start by installing the dependencies\n",
    "%pip install python-frontmatter getorg --upgrade\n",
    "import frontmatter\n",
    "import glob\n",
    "import getorg\n",
    "from geopy import Nominatim\n",
    "from geopy.exc import GeocoderTimedOut"
   ]
  },
  {
   "cell_type": "code",
   "execution_count": 5,
   "metadata": {
    "collapsed": false
   },
   "outputs": [],
   "source": [
    "# Collect the Markdown files\n",
    "g = glob.glob(\"_talks/*.md\")"
   ]
  },
  {
   "cell_type": "code",
   "execution_count": 6,
   "metadata": {
    "collapsed": true
   },
   "outputs": [],
   "source": [
    "# Set the default timeout, in seconds\n",
    "TIMEOUT = 5\n",
    "\n",
    "# Prepare to geolocate\n",
    "geocoder = Nominatim(user_agent=\"academicpages.github.io\")\n",
    "location_dict = {}\n",
    "location = \"\"\n",
    "permalink = \"\"\n",
    "title = \"\""
   ]
  },
  {
   "cell_type": "markdown",
   "metadata": {},
   "source": [
    "In the event that this times out with an error, double check to make sure that the location is can be properly geolocated."
   ]
  },
  {
   "cell_type": "code",
   "execution_count": null,
   "metadata": {
    "collapsed": false
   },
   "outputs": [
    {
     "name": "stdout",
     "output_type": "stream",
     "text": [
      "Double-dipping in Environmental Markets under Uncoordinated Regulators or under a Regulator who Ignores Pollutants’ Complementarities<br />Missouri Valley Economic Association Conference; St Louis, MO Saint Louis, Missouri, United States\n",
      "Double-dipping in Environmental Markets under Uncoordinated Regulators or under a Regulator who Ignores Pollutants’ Complementarities<br />Heartland Environmental and Resource Economics Workshop at Illinois; Champaign, IL Champaign, Champaign County, Illinois, United States\n",
      "Double-dipping in Environmental Markets under Two Second Best Scenario<br />European Association of Environmental and Resource Economists Annual Conference; Helsinki, Finland Helsinki, Helsingin seutukunta, Uusimaa, Manner-Suomi, Suomi / Finland\n",
      "Adoption and Attitudes towards Cover Crops in Iowa<br />Agricultural and Applied Economics Association Annual Meeting; San Francisco, CA San Francisco, California, United States\n",
      "Adoption and Attitudes towards Cover Crops in Iowa<br />Missouri Valley Economic Association Conference; Kansas City, MO Kansas City, Jackson County, Missouri, United States\n",
      "Cost-Share Effectiveness in Planting of Cover Crops<br />Economics Department Workshop Seminar - Iowa State University; Ames, IA Ames, Story County, Iowa, United States\n",
      "Cost-Share Effectiveness in Planting of Cover Crops<br />Midwest Economics Association Meeting; Evanston, IL Evanston, Evanston Township, Cook County, Illinois, United States\n",
      "Gender Specific Risk Preferences, Intra-household Bargaining, and Investment Decisions: Experimental Evidence from Rural Cameroon<br />Agricultural & Applied Economics Association Conference; Boston, MA Boston, Suffolk County, Massachusetts, United States\n",
      "Gender Specific Risk Preferences, Intra-household Bargaining, and Investment Decisions: Experimental Evidence from Rural Cameroon<br />Eastern Economic Association Conference; New York, NY City of New York, New York, United States\n",
      "Gender Specific Risk Preferences, Intra-household Bargaining, and Investment Decisions: Experimental Evidence from Rural Cameroon<br />Midwest Economics Association Conference; Cincinnati, OH Cincinnati, Hamilton County, Ohio, United States\n",
      "Student Debt Management among U.S. College Students<br />Conference on Teaching & Research in Economic Education (CTREE); Denver, CO Denver, Colorado, United States\n",
      "What Determines Financial Knowledge among College Students?<br />International Symposium on Lasallian Research; Minneapolis, MN Minneapolis, Hennepin County, Minnesota, United States\n",
      "What Determines Financial Knowledge among College Students?<br />New York State Economic Association Annual Meeting; Farmingdale, NY Village of Farmingdale, Town of Oyster Bay, Nassau County, New York, United States\n",
      "What Determines Financial Knowledge among College Students?<br />Eastern Economics Association Annual Conference; Boston, MA Boston, Suffolk County, Massachusetts, United States\n",
      "What Determines Financial Knowledge among College Students?<br />Midwest Economics Association Annual Meeting; Evanston, IL Evanston, Evanston Township, Cook County, Illinois, United States\n",
      "Risk Preferences among Argentine Farmers<br />Agricultural and Applied Economics Association Annual Meeting; Washington, DC, United States Washington, District of Columbia, United States\n",
      "Green Behaviors and Preferences among College Students<br />Eastern Economics Association Annual Conference; New York, NY City of New York, New York, United States\n",
      "Understanding Climate Change on Campus: Knowledge, News Credibility, and a Green Fee<br />Eastern Economics Association Annual Conference; New York, NY City of New York, New York, United States\n",
      "Are college students willing to pay a green fee to fund sustainability projects on campus per semester?<br />Midwest Economics Association Annual Meeting (AERE Sessions); St. Louis, MO Saint Louis, Missouri, United States\n",
      "Understanding Cooperation in a Populist Landscape<br />International Conference for Social Dilemmas; Sedona, AZ Sedona, Coconino County, Arizona, 86336, United States\n",
      "Understanding Cooperation in a Populist Landscape<br />International Association for Conflict Management; Dublin, Ireland Dublin, County Dublin, Leinster, Éire / Ireland\n",
      "Sustainability Initiatives on Campus<br />Behavioral and Experimental Economists of the Mid-Atlantic (BEEMA); Villanova, PA Villanova, Radnor, Radnor Township, Delaware County, Pennsylvania, 19085, United States\n",
      "Environmental Attitudes and Green Behaviors among College Students<br />O'Malley School of Business Seminar Series (Manhattan College); Riverdale, NY Riverdale, The Bronx, Bronx County, City of New York, New York, 10471, United States\n",
      "Green Behaviors and Preferences Among College Students<br />The Association for the Advancement of Sustainability in Higher Education Conference; Spokane, WA Spokane, Spokane County, Washington, United States\n",
      "Understanding Climate Change on Campus: Knowledge, News Credibility, and a Green Fee<br />Southern Economic Association Annual Conference; Fort Lauderdale, FL Fort Lauderdale, Broward County, Florida, United States\n",
      "Nudging Conservation: How Effective is Changing the Default Print Setting to Duplex?<br />Eastern Economic Association Annual Conference (AERE Sessions); Boston, MA Boston, Suffolk County, Massachusetts, United States\n"
     ]
    },
    {
     "ename": "AttributeError",
     "evalue": "'NoneType' object has no attribute 'strip'",
     "output_type": "error",
     "traceback": [
      "\u001b[1;31m---------------------------------------------------------------------------\u001b[0m",
      "\u001b[1;31mAttributeError\u001b[0m                            Traceback (most recent call last)",
      "Cell \u001b[1;32mIn[7], line 14\u001b[0m\n\u001b[0;32m     12\u001b[0m title \u001b[38;5;241m=\u001b[39m data[\u001b[38;5;124m'\u001b[39m\u001b[38;5;124mtitle\u001b[39m\u001b[38;5;124m'\u001b[39m]\u001b[38;5;241m.\u001b[39mstrip()\n\u001b[0;32m     13\u001b[0m venue \u001b[38;5;241m=\u001b[39m data[\u001b[38;5;124m'\u001b[39m\u001b[38;5;124mvenue\u001b[39m\u001b[38;5;124m'\u001b[39m]\u001b[38;5;241m.\u001b[39mstrip()\n\u001b[1;32m---> 14\u001b[0m location \u001b[38;5;241m=\u001b[39m \u001b[43mdata\u001b[49m\u001b[43m[\u001b[49m\u001b[38;5;124;43m'\u001b[39;49m\u001b[38;5;124;43mlocation\u001b[39;49m\u001b[38;5;124;43m'\u001b[39;49m\u001b[43m]\u001b[49m\u001b[38;5;241;43m.\u001b[39;49m\u001b[43mstrip\u001b[49m()\n\u001b[0;32m     15\u001b[0m description \u001b[38;5;241m=\u001b[39m \u001b[38;5;124mf\u001b[39m\u001b[38;5;124m\"\u001b[39m\u001b[38;5;132;01m{\u001b[39;00mtitle\u001b[38;5;132;01m}\u001b[39;00m\u001b[38;5;124m<br />\u001b[39m\u001b[38;5;132;01m{\u001b[39;00mvenue\u001b[38;5;132;01m}\u001b[39;00m\u001b[38;5;124m; \u001b[39m\u001b[38;5;132;01m{\u001b[39;00mlocation\u001b[38;5;132;01m}\u001b[39;00m\u001b[38;5;124m\"\u001b[39m\n\u001b[0;32m     17\u001b[0m \u001b[38;5;66;03m# Geocode the location and report the status\u001b[39;00m\n",
      "\u001b[1;31mAttributeError\u001b[0m: 'NoneType' object has no attribute 'strip'"
     ]
    }
   ],
   "source": [
    "# Perform geolocation\n",
    "for file in g:\n",
    "    # Read the file\n",
    "    data = frontmatter.load(file)\n",
    "    data = data.to_dict()\n",
    "\n",
    "    # Press on if the location is not present\n",
    "    if 'location' not in data:\n",
    "        continue\n",
    "\n",
    "    # Prepare the description\n",
    "    #title = data['title'].strip()\n",
    "    #venue = data['venue'].strip()\n",
    "    #location = data['location'].strip()\n",
    "    #description = f\"{title}<br />{venue}; {location}\"\n",
    "\n",
    "    title = data.get('title', '').strip() if data.get('title') else ''\n",
    "    venue = data.get('venue', '').strip() if data.get('venue') else ''\n",
    "    #location = data.get('location', '').strip() if data.get('location') else '' \n",
    "    location = (data.get('location') or \"Unknown\").strip() if data.get('location') else ''\n",
    "\n",
    "    description = f\"{title}<br />{venue}; {location}\"\n",
    "\n",
    "    # Geocode the location and report the status\n",
    "    try:\n",
    "        location_dict[description] = geocoder.geocode(location, timeout=TIMEOUT)\n",
    "        print(description, location_dict[description])\n",
    "    except ValueError as ex:\n",
    "        print(f\"Error: geocode failed on input {location} with message {ex}\")\n",
    "    except GeocoderTimedOut as ex:\n",
    "        print(f\"Error: geocode timed out on input {location} with message {ex}\")\n",
    "    except Exception as ex:\n",
    "        print(f\"An unhandled exception occurred while processing input {location} with message {ex}\")"
   ]
  },
  {
   "cell_type": "code",
   "execution_count": null,
   "metadata": {
    "collapsed": false
   },
   "outputs": [],
   "source": [
    "# Save the map\n",
    "m = getorg.orgmap.create_map_obj()\n",
    "getorg.orgmap.output_html_cluster_map(location_dict, folder_name=\"talkmap\", hashed_usernames=False)"
   ]
  },
  {
   "cell_type": "code",
   "execution_count": null,
   "metadata": {
    "collapsed": true
   },
   "outputs": [],
   "source": []
  }
 ],
 "metadata": {
  "anaconda-cloud": {},
  "kernelspec": {
   "display_name": "Python 3",
   "language": "python",
   "name": "python3"
  },
  "language_info": {
   "codemirror_mode": {
    "name": "ipython",
    "version": 3
   },
   "file_extension": ".py",
   "mimetype": "text/x-python",
   "name": "python",
   "nbconvert_exporter": "python",
   "pygments_lexer": "ipython3",
   "version": "3.8.3"
  }
 },
 "nbformat": 4,
 "nbformat_minor": 0
}
